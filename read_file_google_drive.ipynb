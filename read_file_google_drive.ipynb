{
  "nbformat": 4,
  "nbformat_minor": 0,
  "metadata": {
    "colab": {
      "name": "read-file-google-drive.ipynb",
      "provenance": [],
      "authorship_tag": "ABX9TyN8m5hryCE5lwwPsIdbfsy8",
      "include_colab_link": true
    },
    "kernelspec": {
      "name": "python3",
      "display_name": "Python 3"
    },
    "language_info": {
      "name": "python"
    }
  },
  "cells": [
    {
      "cell_type": "markdown",
      "metadata": {
        "id": "view-in-github",
        "colab_type": "text"
      },
      "source": [
        "<a href=\"https://colab.research.google.com/github/dataengs/read-file-google-drive/blob/main/read_file_google_drive.ipynb\" target=\"_parent\"><img src=\"https://colab.research.google.com/assets/colab-badge.svg\" alt=\"Open In Colab\"/></a>"
      ]
    },
    {
      "cell_type": "code",
      "metadata": {
        "colab": {
          "base_uri": "https://localhost:8080/"
        },
        "id": "1c0KoSK330Yn",
        "outputId": "865c51a4-8a0b-49e8-c6ff-a978736d4663"
      },
      "source": [
        "#Importanto Bibliotecas\n",
        "from google.colab import drive\n",
        "from pyspark.sql import SparkSession\n",
        "\n",
        "#Configurando Google Drive\n",
        "drive.mount('/content/drive')\n",
        "\n",
        "#Criando sessão spark\n",
        "spark = SparkSession.builder.appName('Connect_Google_Drive').getOrCreate()\n",
        "\n",
        "#Lendo o arquivo do Google Driver\n",
        "df = spark.read.csv('/content/drive/My Drive/Meu_Arquivo/netflix_titles.csv', header = True, sep=',')\n",
        "\n",
        "#Exibindo o primeiro registro do arquivo\n",
        "df.show(1, vertical = True, truncate = False)"
      ],
      "execution_count": 2,
      "outputs": [
        {
          "output_type": "stream",
          "name": "stdout",
          "text": [
            "Mounted at /content/drive\n",
            "-RECORD 0----------------------------------------------------------------------------------------------------------------------------------------------------------------\n",
            " show_id      | s1                                                                                                                                                       \n",
            " type         | Movie                                                                                                                                                    \n",
            " title        | Dick Johnson Is Dead                                                                                                                                     \n",
            " director     | Kirsten Johnson                                                                                                                                          \n",
            " cast         | null                                                                                                                                                     \n",
            " country      | United States                                                                                                                                            \n",
            " date_added   | September 25, 2021                                                                                                                                       \n",
            " release_year | 2020                                                                                                                                                     \n",
            " rating       | PG-13                                                                                                                                                    \n",
            " duration     | 90 min                                                                                                                                                   \n",
            " listed_in    | Documentaries                                                                                                                                            \n",
            " description  | As her father nears the end of his life, filmmaker Kirsten Johnson stages his death in inventive and comical ways to help them both face the inevitable. \n",
            "only showing top 1 row\n",
            "\n"
          ]
        }
      ]
    }
  ]
}